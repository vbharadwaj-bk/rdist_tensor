{
 "cells": [
  {
   "cell_type": "markdown",
   "id": "a0e0d177-4952-4e72-9b28-f5f8661d4f56",
   "metadata": {},
   "source": [
    "# Sparse Tensor Decomposition Chart Generator"
   ]
  },
  {
   "cell_type": "code",
   "execution_count": 2,
   "id": "520347a1-d256-4d8c-85ff-59ac378dd607",
   "metadata": {},
   "outputs": [],
   "source": [
    "import numpy as np\n",
    "import numpy.linalg as la\n",
    "import matplotlib.pyplot as plt\n",
    "import sys\n",
    "import os\n",
    "sys.path.append(\"..\")\n",
    "from analysis.analysis import *\n",
    "\n",
    "%load_ext autoreload\n",
    "%autoreload 2"
   ]
  },
  {
   "cell_type": "markdown",
   "id": "a356f68e-396c-470e-8b01-c242949c9dc5",
   "metadata": {},
   "source": [
    "## SPLATT Baseline Reader"
   ]
  },
  {
   "cell_type": "code",
   "execution_count": 59,
   "id": "2e07ff2e-125c-46f0-9cc1-1310ee32e8a4",
   "metadata": {},
   "outputs": [],
   "source": [
    "splatt_dir='../baseline/outputs/'\n",
    "\n",
    "splatt_times_amazon_4nodes = read_splatt_trace(splatt_dir + 'amazon_decomposition_bench_4node_2threads.out')\n",
    "splatt_times_reddit_4nodes = read_splatt_trace(splatt_dir + 'reddit_decomposition_bench_4node2threads.out')\n",
    "\n",
    "amazon_splatt_meantime = np.mean(splatt_times_amazon_4nodes)\n",
    "reddit_splatt_meantime = np.mean(splatt_times_reddit_4nodes)"
   ]
  },
  {
   "cell_type": "code",
   "execution_count": 61,
   "id": "fcdceb6e-9b01-4921-80af-6315b0a3043e",
   "metadata": {},
   "outputs": [
    {
     "data": {
      "image/png": "[encoded data removed]",
      "text/plain": [
       "<Figure size 432x288 with 1 Axes>"
      ]
     },
     "metadata": {
      "needs_background": "light"
     },
     "output_type": "display_data"
    }
   ],
   "source": [
    "baseline_exp_dir='../data/splatt_comparison_runs/'\n",
    "\n",
    "amazon_baselines = get_experiments(baseline_exp_dir + 'amazon.out')\n",
    "\n",
    "total_time_exact_amazon = np.sum([amazon_baselines[0]['Timers'][el] for el in amazon_baselines[0]['Timers']])\n",
    "total_time_sketched_amazon = np.sum([amazon_baselines[1]['Timers'][el] for el in amazon_baselines[1]['Timers']])\n",
    "\n",
    "reddit_baselines = get_experiments(baseline_exp_dir + 'reddit.out')\n",
    "\n",
    "total_time_exact_reddit = np.sum([reddit_baselines[0]['Timers'][el] for el in reddit_baselines[0]['Timers']])\n",
    "total_time_sketched_reddit = np.sum([reddit_baselines[1]['Timers'][el] for el in reddit_baselines[1]['Timers']])\n",
    "\n",
    "fig,ax=plt.subplots()\n",
    "\n",
    "bar_width = 0.35\n",
    "offset = 2.0\n",
    "ngroups=1\n",
    "index = np.arange(ngroups)\n",
    "ax.bar([0, offset], [total_time_exact_amazon, total_time_exact_reddit], bar_width, color='g', label='Exact ALS', edgecolor='black')\n",
    "ax.bar([bar_width, offset + bar_width], [amazon_splatt_meantime * 25, reddit_splatt_meantime * 25], bar_width, color='y', label='SPLATT', edgecolor='black')\n",
    "ax.bar([2 * bar_width, offset + 2 * bar_width], [total_time_sketched_amazon, total_time_sketched_reddit], bar_width, color='purple', label='Dist. Downsampled ALS (Ours)', edgecolor='black')\n",
    "\n",
    "plt.grid(True)\n",
    "plt.xticks([bar_width, offset + bar_width])\n",
    "ax.set_xticklabels([\"Amazon\", \"Reddit\"])\n",
    "plt.ylabel(\"Time for 25 ALS Iterations (s)\")\n",
    "plt.legend()\n",
    "fig.show()\n",
    "fig.savefig(\"../analysis/figures/splatt_comparison.pdf\", bbox_inches='tight')"
   ]
  },
  {
   "cell_type": "code",
   "execution_count": null,
   "id": "e75a0c9c-5576-4fe3-952b-18245ea1b06e",
   "metadata": {},
   "outputs": [],
   "source": []
  },
  {
   "cell_type": "code",
   "execution_count": null,
   "id": "d7cf5caf-ca3b-49b1-a48d-36bd29d5437e",
   "metadata": {},
   "outputs": [],
   "source": []
  },
  {
   "cell_type": "code",
   "execution_count": 26,
   "id": "8b71507a-383d-49d2-a594-6e69bcf89b87",
   "metadata": {},
   "outputs": [
    {
     "data": {
      "text/plain": [
       "([<matplotlib.axis.XTick at 0x148c1bed4f10>], [Text(0, 0, '')])"
      ]
     },
     "execution_count": 26,
     "metadata": {},
     "output_type": "execute_result"
    },
    {
     "data": {
      "image/png": "[encoded data removed]",
      "text/plain": [
       "<Figure size 432x288 with 1 Axes>"
      ]
     },
     "metadata": {
      "needs_background": "light"
     },
     "output_type": "display_data"
    }
   ],
   "source": []
  },
  {
   "cell_type": "code",
   "execution_count": 68,
   "id": "486c1e18-f0df-49d8-bba1-ac21749a1b59",
   "metadata": {},
   "outputs": [
    {
     "name": "stdout",
     "output_type": "stream",
     "text": [
      "87.96939277648926\n"
     ]
    }
   ],
   "source": [
    "print(normalized_time_exact_amazon)"
   ]
  },
  {
   "cell_type": "code",
   "execution_count": 63,
   "id": "048d75a2-9690-4e1c-b6b5-bb6db8e5d0f7",
   "metadata": {},
   "outputs": [
    {
     "data": {
      "text/plain": [
       "29"
      ]
     },
     "execution_count": 63,
     "metadata": {},
     "output_type": "execute_result"
    }
   ],
   "source": [
    "amazon_baselines[0]['Loss Iterations'][-1]"
   ]
  },
  {
   "cell_type": "markdown",
   "id": "8f74344e-2e88-4c4e-98cc-92a94a7b63f3",
   "metadata": {},
   "source": [
    "# Accuracy Table Generator"
   ]
  },
  {
   "cell_type": "code",
   "execution_count": 62,
   "id": "1d704e42-b46d-4c3e-9d9e-76af65925368",
   "metadata": {},
   "outputs": [
    {
     "name": "stdout",
     "output_type": "stream",
     "text": [
      "Median Fit for ../data/baseline_runs/amazon.out: 0.33738328859465216\n"
     ]
    },
    {
     "data": {
      "image/png": "[encoded data removed]",
      "text/plain": [
       "<Figure size 432x288 with 1 Axes>"
      ]
     },
     "metadata": {
      "needs_background": "light"
     },
     "output_type": "display_data"
    }
   ],
   "source": [
    "exp_dir='../data/baseline_runs/'\n",
    "\n",
    "def get_mean_accuracies(path):\n",
    "    exps = get_experiments(path)\n",
    "    max_accuracies = []\n",
    "    \n",
    "    for exp in exps:\n",
    "        max_accuracies.append(np.max(exp[\"Loss Values\"]))\n",
    "        \n",
    "    plt.boxplot(max_accuracies, vert=False)\n",
    "    print(f\"Median Fit for {path}: {np.median(max_accuracies)}\")\n",
    "    \n",
    "get_mean_accuracies(exp_dir + 'amazon.out')"
   ]
  },
  {
   "cell_type": "code",
   "execution_count": 12,
   "id": "6192dd69-0787-4eb5-bffc-f9faa85025f8",
   "metadata": {},
   "outputs": [
    {
     "name": "stdout",
     "output_type": "stream",
     "text": [
      "Median Fit for ../data/baseline_runs/reddit.out: 0.05886066358229014\n"
     ]
    },
    {
     "data": {
      "image/png": "[encoded data removed]",
      "text/plain": [
       "<Figure size 432x288 with 1 Axes>"
      ]
     },
     "metadata": {
      "needs_background": "light"
     },
     "output_type": "display_data"
    }
   ],
   "source": [
    "exp_dir='../data/baseline_runs/'\n",
    "\n",
    "    \n",
    "get_mean_accuracies(exp_dir + 'reddit.out')"
   ]
  },
  {
   "cell_type": "code",
   "execution_count": 17,
   "id": "549bd801-7c52-4fff-905f-b71fb25b817c",
   "metadata": {},
   "outputs": [
    {
     "name": "stdout",
     "output_type": "stream",
     "text": [
      "Median Fit for ../data/baseline_runs/uber.out: 0.18901287580865755\n"
     ]
    },
    {
     "data": {
      "image/png": "[encoded data removed]",
      "text/plain": [
       "<Figure size 432x288 with 1 Axes>"
      ]
     },
     "metadata": {
      "needs_background": "light"
     },
     "output_type": "display_data"
    }
   ],
   "source": [
    "exp_dir='../data/baseline_runs/'\n",
    "\n",
    "def get_mean_accuracies(path):\n",
    "    exps = get_experiments(path)\n",
    "    max_accuracies = []\n",
    "    \n",
    "    for exp in exps:\n",
    "        max_accuracies.append(np.max(exp[\"Loss Values\"]))\n",
    "        \n",
    "    plt.boxplot(max_accuracies, vert=False)\n",
    "    print(f\"Median Fit for {path}: {np.median(max_accuracies)}\")\n",
    "    \n",
    "get_mean_accuracies(exp_dir + 'uber.out')"
   ]
  },
  {
   "cell_type": "markdown",
   "id": "f4c0aa3b-17fb-48c1-a3e6-8c553b93c39c",
   "metadata": {},
   "source": [
    "# Tensor Dimension Reader"
   ]
  },
  {
   "cell_type": "code",
   "execution_count": 33,
   "id": "26aaf180-8a66-4b02-82a8-9db0fe64fece",
   "metadata": {},
   "outputs": [
    {
     "data": {
      "text/plain": [
       "<HDF5 dataset \"VALUES\": shape (10339696053,), type \"<f8\">"
      ]
     },
     "execution_count": 33,
     "metadata": {},
     "output_type": "execute_result"
    }
   ],
   "source": [
    "import h5py\n",
    "\n",
    "f = h5py.File('/pscratch/sd/v/vbharadw/tensors/caida_large.hdf5', 'r')\n",
    "f['VALUES']"
   ]
  },
  {
   "cell_type": "markdown",
   "id": "18cf9c9f-9807-40c7-8981-22cc8b4b010c",
   "metadata": {},
   "source": [
    "# Scaling Experiment Chart Generator"
   ]
  },
  {
   "cell_type": "code",
   "execution_count": 18,
   "id": "3e711d1f-c9d0-4d25-bb8f-58d5d519cfe2",
   "metadata": {},
   "outputs": [
    {
     "data": {
      "image/png": "[encoded data removed]",
      "text/plain": [
       "<Figure size 871.2x435.6 with 8 Axes>"
      ]
     },
     "metadata": {
      "needs_background": "light"
     },
     "output_type": "display_data"
    }
   ],
   "source": [
    "exp_dir='../data/scaling_runs/'\n",
    "\n",
    "def timer_processor(time_dicts):\n",
    "    outputs = []\n",
    "    for el in time_dicts:\n",
    "        if \"Pre-optimizer Statistics\" in el and el[\"Pre-optimizer Statistics\"] is not None:\n",
    "            pre_stats = el[\"Pre-optimizer Statistics\"]\n",
    "            for key in pre_stats['Timers'].keys():\n",
    "                el['Timers'][key] += pre_stats['Timers'][key]\n",
    "            \n",
    "        output_map = {}\n",
    "        output_map[\"Gram Computation\"] = el[\"Gram Matrix Computation\"]\n",
    "        output_map[\"Factor All-gather\"] = el[\"Slice All-gather\"] + el[\"Sample Allgather\"] + el[\"Sample Inflation\"]\n",
    "        output_map[\"Dense Reduce-Scatter\"] = el[\"Slice Reduce-Scatter\"]\n",
    "        output_map[\"RHS Sample Selection + Redistribute\"] = el[\"Nonzero Filtering + Redistribute\"]\n",
    "        output_map[\"LSTSQ Solve\"] = el[\"Gram LSTSQ Solve\"]\n",
    "        output_map[\"Lev. Score Computation\"] = el[\"Leverage Score Computation\"]\n",
    "        output_map[\"MTTKRP\"] = el[\"MTTKRP\"]\n",
    "        outputs.append(output_map)\n",
    "        \n",
    "    return outputs\n",
    "\n",
    "exps_reddit = get_experiments(exp_dir + 'reddit.out')\n",
    "time_data = [exp['Timers'] for exp in exps_reddit]\n",
    "time_data = timer_processor(time_data)\n",
    "        \n",
    "\n",
    "fig = plt.figure()\n",
    "scale = 1.1\n",
    "fig.set_size_inches(11 * scale, 5.5 * scale)\n",
    "spec = fig.add_gridspec(2, 4, wspace=0, hspace=0.0)\n",
    "axs = [[fig.add_subplot(spec[i, j]) for j in range(4)] for i in range(2)]\n",
    "\n",
    "corner = [(0, 1), (0, 2), (0, 3), (1, 0), (1, 1), (1, 2), (1, 3)]\n",
    "lower_border = [(0, 1), (1, 1), (0, 2), (0, 3), (1, 2), (1, 3)]\n",
    "top_right = [(0, 1), (0, 2), (0, 3)]\n",
    "bottom_right = [(1, 1), (1, 2), (1, 3)]\n",
    "\n",
    "axs[1][0].sharex(axs[0][0])\n",
    "axs[1][1].sharex(axs[0][1])\n",
    "axs[1][2].sharex(axs[0][2])\n",
    "axs[1][3].sharex(axs[0][3])\n",
    "\n",
    "for (x, y) in [(0, 0), (0, 1), (0, 2), (0, 3)]:\n",
    "    axs[x][y].set_xlim((-0.25, 1.0))\n",
    "    \n",
    "for (x, y) in top_right:\n",
    "    axs[x][y].sharey(axs[0][0])\n",
    "\n",
    "for (x, y) in bottom_right:\n",
    "    axs[x][y].sharey(axs[1][0])\n",
    "    \n",
    "for (x, y) in lower_border:\n",
    "    axs[x][y].label_outer()\n",
    "\n",
    "colors = ['goldenrod', 'steelblue', 'slateblue', 'pink', 'dodgerblue', 'darkorange', 'green']\n",
    "\n",
    "ax = axs[0][0]\n",
    "ax.set_ylabel(\"Accum. Stationary\")\n",
    "ax.set_title(\"Amazon\")\n",
    "exps_amazon = get_experiments(exp_dir + 'amazon.out')\n",
    "time_data = [exp['Timers'] for exp in exps_amazon]\n",
    "time_data = timer_processor(time_data)\n",
    "make_stacked_barchart(ax, [0.0,0.25,0.5], 0.25, time_data, list(time_data[0].keys()), [f\"{exp['Processor Count'] // 128} \" for exp in exps_amazon], colors=colors)\n",
    "\n",
    "ax = axs[1][0]\n",
    "ax.set_ylabel(\"Tensor Stationary\")\n",
    "exps_amazon = get_experiments(exp_dir + 'amazon_tensor_stationary.out')\n",
    "time_data = [exp['Timers'] for exp in exps_amazon]\n",
    "time_data = timer_processor(time_data)\n",
    "make_stacked_barchart(ax, [0.0,0.25,0.5], 0.25, time_data, list(time_data[0].keys()), [f\"{exp['Processor Count'] // 128} \" for exp in exps_amazon], colors=colors)\n",
    "\n",
    "ax = axs[0][1]\n",
    "ax.set_title(\"Reddit\")\n",
    "exps_reddit = get_experiments(exp_dir + 'reddit.out')[:-1]\n",
    "time_data = [exp['Timers'] for exp in exps_reddit]\n",
    "time_data = timer_processor(time_data)\n",
    "make_stacked_barchart(ax, [0.25,0.50,0.75], 0.25, time_data, list(time_data[0].keys()), [f\"{exp['Processor Count'] // 128} \" for exp in exps_reddit], colors=colors)\n",
    "\n",
    "ax = axs[1][1]\n",
    "exps_reddit = get_experiments(exp_dir + 'reddit_tensor_stationary.out')\n",
    "time_data = [exp['Timers'] for exp in exps_reddit]\n",
    "time_data = timer_processor(time_data)\n",
    "make_stacked_barchart(ax, [0.25,0.50,0.75], 0.25, time_data, list(time_data[0].keys()), [f\"{exp['Processor Count'] // 128} \" for exp in exps_reddit], colors=colors)\n",
    "\n",
    "ax = axs[0][2]\n",
    "ax.set_title(\"CAIDA Small\")\n",
    "exps_caida = get_experiments(exp_dir + 'caida_small.out')\n",
    "time_data = [exp['Timers'] for exp in exps_caida]\n",
    "time_data = timer_processor(time_data)\n",
    "make_stacked_barchart(ax, [0.25,0.50], 0.25, time_data, list(time_data[0].keys()), [f\"{exp['Processor Count'] // 128} \" for exp in exps_caida], colors=colors)\n",
    "\n",
    "ax = axs[1][2]\n",
    "exps_caida = get_experiments(exp_dir + 'caida_small_tensor_stationary.out')\n",
    "time_data = [exp['Timers'] for exp in exps_caida]\n",
    "time_data = timer_processor(time_data)\n",
    "make_stacked_barchart(ax, [0.25,0.50], 0.25, time_data, list(time_data[0].keys()), [f\"{exp['Processor Count'] // 128} \" for exp in exps_caida], colors=colors)\n",
    "\n",
    "ax = axs[0][3]\n",
    "ax.set_title(\"CAIDA Large\")\n",
    "exps_caida = get_experiments(exp_dir + 'caida_medium.out')\n",
    "time_data = [exp['Timers'] for exp in exps_caida]\n",
    "time_data = timer_processor(time_data)\n",
    "make_stacked_barchart(ax, [0.50], 0.25, time_data, list(time_data[0].keys()), [f\"{exp['Processor Count'] // 128} \" for exp in exps_caida], colors=colors)\n",
    "\n",
    "ax = axs[1][3]\n",
    "exps_caida = get_experiments(exp_dir + 'caida_medium_tensor_stationary.out')\n",
    "time_data = [exp['Timers'] for exp in exps_caida]\n",
    "time_data = timer_processor(time_data)\n",
    "make_stacked_barchart(ax, [0.50], 0.25, time_data, list(time_data[0].keys()), [f\"{exp['Processor Count'] // 128} \" for exp in exps_caida], colors=colors)\n",
    "\n",
    "fig.text(0.515, 0.046, 'Node Count', ha='center')\n",
    "fig.text(0.06, 0.336, 'Time for 50 ALS Iterations (s)', ha='center', rotation=\"vertical\")\n",
    "\n",
    "\n",
    "leg_handles, leg_labels = axs[0][0].get_legend_handles_labels()\n",
    "fig.legend(leg_handles, leg_labels, bbox_to_anchor=(0.875, 0.035), ncol=4)\n",
    "fig.show()\n",
    "fig.savefig(\"../analysis/figures/scaling_breakdown.pdf\", bbox_inches='tight')"
   ]
  },
  {
   "cell_type": "code",
   "execution_count": null,
   "id": "4ca3a281-0b75-46c5-a231-a79fd11467a9",
   "metadata": {},
   "outputs": [],
   "source": []
  },
  {
   "cell_type": "code",
   "execution_count": null,
   "id": "129eaacf-b4b1-4335-8dc1-9013e0da7636",
   "metadata": {},
   "outputs": [],
   "source": []
  },
  {
   "cell_type": "code",
   "execution_count": null,
   "id": "f19a353a-06ae-45c7-940b-81df97f65b63",
   "metadata": {},
   "outputs": [],
   "source": []
  },
  {
   "cell_type": "code",
   "execution_count": null,
   "id": "0608cd4f-a73e-46c8-a0b0-2c1f4b9ac2d8",
   "metadata": {},
   "outputs": [],
   "source": []
  }
 ],
 "metadata": {
  "kernelspec": {
   "display_name": "NERSC Python",
   "language": "python",
   "name": "python3"
  },
  "language_info": {
   "codemirror_mode": {
    "name": "ipython",
    "version": 3
   },
   "file_extension": ".py",
   "mimetype": "text/x-python",
   "name": "python",
   "nbconvert_exporter": "python",
   "pygments_lexer": "ipython3",
   "version": "3.9.7"
  }
 },
 "nbformat": 4,
 "nbformat_minor": 5
}
